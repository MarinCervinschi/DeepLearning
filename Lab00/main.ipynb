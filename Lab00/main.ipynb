{
  "nbformat": 4,
  "nbformat_minor": 0,
  "metadata": {
    "colab": {
      "provenance": [],
      "authorship_tag": "ABX9TyPIGGxkDhYyBJ+MHqnnuADi",
      "include_colab_link": true
    },
    "kernelspec": {
      "name": "python3",
      "display_name": "Python 3"
    },
    "language_info": {
      "name": "python"
    }
  },
  "cells": [
    {
      "cell_type": "markdown",
      "metadata": {
        "id": "view-in-github",
        "colab_type": "text"
      },
      "source": [
        "<a href=\"https://colab.research.google.com/github/MarinCervinschi/DeepLearning/blob/main/Lab00/main.ipynb\" target=\"_parent\"><img src=\"https://colab.research.google.com/assets/colab-badge.svg\" alt=\"Open In Colab\"/></a>"
      ]
    },
    {
      "cell_type": "code",
      "source": [
        "import torch\n",
        "import numpy as np"
      ],
      "metadata": {
        "id": "X469R8weF8Ry"
      },
      "execution_count": 29,
      "outputs": []
    },
    {
      "cell_type": "code",
      "execution_count": 54,
      "metadata": {
        "id": "6fveOtCPBuLc"
      },
      "outputs": [],
      "source": [
        "# Generate synthetic data\n",
        "X = torch.linspace(0, 1, 100).reshape(-1, 1)\n",
        "y = 3 * X + 2 + 0.1 * torch.randn(X.size())\n",
        "\n",
        "# Initialize weights and bias\n",
        "#w = torch.randn(1, requires_grad=True)\n",
        "#b = torch.randn(1, requires_grad=True)\n",
        "# Load the parameters\n",
        "checkpoint = torch.load('linear_regression_no_nn.pth')\n",
        "w = checkpoint['w']\n",
        "b = checkpoint['b']"
      ]
    },
    {
      "cell_type": "code",
      "source": [
        "# Define the forward pass\n",
        "def forward(X):\n",
        "  return w * X + b\n",
        "\n",
        "# Define the loss function\n",
        "def mse_loss(y_pred, y):\n",
        "  return ((y_pred - y) ** 2).mean()\n",
        "\n",
        "# Training loop\n",
        "learning_rate = 0.1\n",
        "for epoch in range(100):\n",
        "  # Forward pass\n",
        "  predictions = forward(X)\n",
        "  loss = mse_loss(predictions, y)\n",
        "  # Backward pass\n",
        "  loss.backward()\n",
        "  # Update parameters\n",
        "  with torch.no_grad():\n",
        "    w -= learning_rate * w.grad\n",
        "    b -= learning_rate * b.grad\n",
        "    # Zero gradients\n",
        "    w.grad.zero_()\n",
        "    b.grad.zero_()"
      ],
      "metadata": {
        "id": "vvJI8pHfCWah"
      },
      "execution_count": 55,
      "outputs": []
    },
    {
      "cell_type": "code",
      "source": [
        "# Evaluate the model\n",
        "with torch.no_grad():\n",
        "  predictions = forward(X)\n",
        "  print(f\"Final Loss: {mse_loss(predictions, y).item()}\")"
      ],
      "metadata": {
        "colab": {
          "base_uri": "https://localhost:8080/"
        },
        "id": "bXM1Cl9_CetJ",
        "outputId": "4778640f-2c52-44c1-e9b7-4f646c4c0693"
      },
      "execution_count": 56,
      "outputs": [
        {
          "output_type": "stream",
          "name": "stdout",
          "text": [
            "Final Loss: 0.010206090286374092\n"
          ]
        }
      ]
    },
    {
      "cell_type": "code",
      "source": [
        "import matplotlib.pyplot as plt\n",
        "# Plot the results\n",
        "plt.scatter(X.numpy(), y.numpy(), label='Data')\n",
        "plt.plot(X.numpy(), predictions.numpy(), label='Fitted Line', color='red')\n",
        "plt.legend()\n",
        "plt.show()"
      ],
      "metadata": {
        "colab": {
          "base_uri": "https://localhost:8080/",
          "height": 430
        },
        "id": "BiAqzAC3Ci7c",
        "outputId": "bf18587f-9cfd-4ef6-a7b4-5d1f767d1bd5"
      },
      "execution_count": 57,
      "outputs": [
        {
          "output_type": "display_data",
          "data": {
            "text/plain": [
              "<Figure size 640x480 with 1 Axes>"
            ],
            "image/png": "[encoded data removed]"
          },
          "metadata": {}
        }
      ]
    },
    {
      "cell_type": "code",
      "source": [
        "# Save the parameters\n",
        "torch.save({'w': w, 'b': b}, 'linear_regression_no_nn.pth')"
      ],
      "metadata": {
        "id": "_P86N3vCDuKH"
      },
      "execution_count": 58,
      "outputs": []
    },
    {
      "cell_type": "code",
      "source": [
        "# Load the parameters\n",
        "checkpoint = torch.load('linear_regression_no_nn.pth')\n",
        "w = checkpoint['w']\n",
        "b = checkpoint['b']\n",
        "\n",
        "print(f\"w = {w}; b = {b}\")"
      ],
      "metadata": {
        "colab": {
          "base_uri": "https://localhost:8080/"
        },
        "id": "HPx5dfawEabp",
        "outputId": "b6463eb5-91d3-4b9e-ff51-29f63915199b"
      },
      "execution_count": 48,
      "outputs": [
        {
          "output_type": "stream",
          "name": "stdout",
          "text": [
            "w = tensor([2.9569], requires_grad=True); b = tensor([2.0328], requires_grad=True)\n"
          ]
        }
      ]
    },
    {
      "cell_type": "code",
      "source": [],
      "metadata": {
        "id": "4dCGp-gjEpmP"
      },
      "execution_count": 48,
      "outputs": []
    }
  ]
}